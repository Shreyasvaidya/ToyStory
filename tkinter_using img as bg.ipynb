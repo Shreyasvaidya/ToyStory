{
 "cells": [
  {
   "cell_type": "code",
   "execution_count": 1,
   "id": "8f0a6a54",
   "metadata": {},
   "outputs": [],
   "source": [
    "from tkinter import *\n",
    "from PIL import ImageTk\n",
    "import PIL.Image"
   ]
  },
  {
   "cell_type": "code",
   "execution_count": 2,
   "id": "7393ee5c",
   "metadata": {},
   "outputs": [],
   "source": [
    "root = Tk()\n",
    "root.title('TOYery')\n",
    "root.geometry(\"1600x900\")\n",
    "\n",
    "# Define Img\n",
    "img = ImageTk.PhotoImage(PIL.Image.open('Bg.jpg'))\n",
    "\n",
    "# Create a bg img label\n",
    "img_label = Label(root, image=img)\n",
    "img_label.place(x=0, y=0, relwidth=1, relheight=1)\n",
    "\n",
    "root.mainloop()"
   ]
  }
 ],
 "metadata": {
  "kernelspec": {
   "display_name": "Python 3",
   "language": "python",
   "name": "python3"
  },
  "language_info": {
   "codemirror_mode": {
    "name": "ipython",
    "version": 3
   },
   "file_extension": ".py",
   "mimetype": "text/x-python",
   "name": "python",
   "nbconvert_exporter": "python",
   "pygments_lexer": "ipython3",
   "version": "3.8.8"
  }
 },
 "nbformat": 4,
 "nbformat_minor": 5
}
