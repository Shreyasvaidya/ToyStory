{
 "cells": [
  {
   "cell_type": "markdown",
   "id": "18acc1cc",
   "metadata": {},
   "source": [
    "pip install SpeechRecognition\n",
    "pip install pyaudio"
   ]
  },
  {
   "cell_type": "markdown",
   "id": "18508097",
   "metadata": {},
   "source": [
    "(1) Here 'try & except' is to handle cases if the system is unable to recoginize the voice properly\n",
    "\n",
    "()Must try to increase the conversion speed"
   ]
  },
  {
   "cell_type": "code",
   "execution_count": 4,
   "id": "1d781304",
   "metadata": {},
   "outputs": [
    {
     "name": "stdout",
     "output_type": "stream",
     "text": [
      "Speak Anything\n",
      "You siad: hello everything alright how is the day good morning\n"
     ]
    }
   ],
   "source": [
    "import speech_recognition as sr\n",
    "import pyaudio\n",
    "\n",
    "r = sr.Recognizer()\n",
    "\n",
    "with sr.Microphone() as source:\n",
    "    print('Speak Anything')\n",
    "    audio = r.listen(source)\n",
    "    \n",
    "    try:\n",
    "        text = r.recognize_google(audio) #Coverts audio to text\n",
    "        print('You said: {}'.format(text)) #The text converted gets stored in {}\n",
    "    except:\n",
    "        print('Sorry! Could not recognize')"
   ]
  }
 ],
 "metadata": {
  "kernelspec": {
   "display_name": "Python 3",
   "language": "python",
   "name": "python3"
  },
  "language_info": {
   "codemirror_mode": {
    "name": "ipython",
    "version": 3
   },
   "file_extension": ".py",
   "mimetype": "text/x-python",
   "name": "python",
   "nbconvert_exporter": "python",
   "pygments_lexer": "ipython3",
   "version": "3.8.8"
  }
 },
 "nbformat": 4,
 "nbformat_minor": 5
}
